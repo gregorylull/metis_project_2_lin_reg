{
 "cells": [
  {
   "cell_type": "code",
   "execution_count": null,
   "metadata": {},
   "outputs": [],
   "source": [
    "%pylab inline\n",
    "%config InlineBackend.figure_format = 'svg'\n",
    "\n",
    "import pandas as pd\n",
    "import seaborn as sns\n",
    "sns.set()\n",
    "\n",
    "from sklearn.model_selection import train_test_split\n",
    "from sklearn.linear_model import LinearRegression, Lasso, LassoCV, Ridge, RidgeCV\n",
    "from sklearn.metrics import r2_score"
   ]
  },
  {
   "cell_type": "code",
   "execution_count": null,
   "metadata": {},
   "outputs": [],
   "source": [
    "\"\"\"\n",
    "1. get X and Y\n",
    "2. Train and test\n",
    "3. put data through linear regression\n",
    " - X fit\n",
    "4. predict with test\n",
    "5. get score R2 or MSE\n",
    "6. Plot\n",
    "   - scatter plot prediction vs actual\n",
    "\n",
    "\"\"\""
   ]
  },
  {
   "cell_type": "code",
   "execution_count": null,
   "metadata": {},
   "outputs": [],
   "source": [
    "!ls data/"
   ]
  },
  {
   "cell_type": "code",
   "execution_count": 16,
   "metadata": {
    "ExecuteTime": {
     "end_time": "2019-10-09T23:49:25.624180Z",
     "start_time": "2019-10-09T23:49:25.585390Z"
    }
   },
   "outputs": [],
   "source": [
    "dfp1 = pd.read_json('data/1-3-bed-manhattan-pg332.json')\n"
   ]
  },
  {
   "cell_type": "code",
   "execution_count": 17,
   "metadata": {
    "ExecuteTime": {
     "end_time": "2019-10-09T23:49:26.025291Z",
     "start_time": "2019-10-09T23:49:26.004280Z"
    }
   },
   "outputs": [],
   "source": [
    "dfp2 = pd.read_json('data/1-3-bed-manhattan-pg332-601.json')\n"
   ]
  },
  {
   "cell_type": "code",
   "execution_count": 18,
   "metadata": {
    "ExecuteTime": {
     "end_time": "2019-10-09T23:49:26.638159Z",
     "start_time": "2019-10-09T23:49:26.632547Z"
    }
   },
   "outputs": [],
   "source": [
    "df_concat = pd.concat([dfp1, dfp1])"
   ]
  },
  {
   "cell_type": "code",
   "execution_count": 19,
   "metadata": {
    "ExecuteTime": {
     "end_time": "2019-10-09T23:49:27.029412Z",
     "start_time": "2019-10-09T23:49:27.020410Z"
    }
   },
   "outputs": [],
   "source": [
    "df_na = df_concat.dropna(subset=['street', 'price', 'neighborhood'])"
   ]
  },
  {
   "cell_type": "code",
   "execution_count": 20,
   "metadata": {
    "ExecuteTime": {
     "end_time": "2019-10-09T23:49:27.458108Z",
     "start_time": "2019-10-09T23:49:27.450045Z"
    }
   },
   "outputs": [
    {
     "name": "stdout",
     "output_type": "stream",
     "text": [
      "<class 'pandas.core.frame.DataFrame'>\n",
      "Int64Index: 8000 entries, 0 to 4061\n",
      "Data columns (total 12 columns):\n",
      "price            8000 non-null int64\n",
      "street           8000 non-null object\n",
      "furnished        326 non-null object\n",
      "url              8000 non-null object\n",
      "beds             8000 non-null float64\n",
      "baths            8000 non-null float64\n",
      "no_broker_fee    8000 non-null float64\n",
      "borough          8000 non-null object\n",
      "city             8000 non-null object\n",
      "sqft             2986 non-null object\n",
      "neighborhood     8000 non-null object\n",
      "address          8000 non-null object\n",
      "dtypes: float64(3), int64(1), object(8)\n",
      "memory usage: 812.5+ KB\n"
     ]
    }
   ],
   "source": [
    "df_na.info()"
   ]
  },
  {
   "cell_type": "code",
   "execution_count": 22,
   "metadata": {
    "ExecuteTime": {
     "end_time": "2019-10-09T23:49:54.323515Z",
     "start_time": "2019-10-09T23:49:54.320827Z"
    }
   },
   "outputs": [],
   "source": [
    "def keep_int(element):\n",
    "    if type(element) == int:\n",
    "        return element\n",
    "    else:\n",
    "        return np.nan\n",
    "      "
   ]
  },
  {
   "cell_type": "code",
   "execution_count": 23,
   "metadata": {
    "ExecuteTime": {
     "end_time": "2019-10-09T23:49:54.834775Z",
     "start_time": "2019-10-09T23:49:54.825772Z"
    }
   },
   "outputs": [
    {
     "name": "stderr",
     "output_type": "stream",
     "text": [
      "/Users/greg/anaconda3/envs/metis/lib/python3.7/site-packages/ipykernel_launcher.py:1: SettingWithCopyWarning: \n",
      "A value is trying to be set on a copy of a slice from a DataFrame.\n",
      "Try using .loc[row_indexer,col_indexer] = value instead\n",
      "\n",
      "See the caveats in the documentation: http://pandas.pydata.org/pandas-docs/stable/user_guide/indexing.html#returning-a-view-versus-a-copy\n",
      "  \"\"\"Entry point for launching an IPython kernel.\n"
     ]
    }
   ],
   "source": [
    "df_na['sqft'] = df_na['sqft'].apply(keep_int)"
   ]
  },
  {
   "cell_type": "code",
   "execution_count": 35,
   "metadata": {
    "ExecuteTime": {
     "end_time": "2019-10-09T23:52:46.999818Z",
     "start_time": "2019-10-09T23:52:46.996616Z"
    }
   },
   "outputs": [],
   "source": [
    "def remove_queries(element):\n",
    "    if '?' in element:\n",
    "        index = element.index('?')\n",
    "        return element[:index]\n",
    "    else:\n",
    "        return element\n",
    "        \n",
    "    "
   ]
  },
  {
   "cell_type": "code",
   "execution_count": null,
   "metadata": {},
   "outputs": [],
   "source": []
  },
  {
   "cell_type": "code",
   "execution_count": 70,
   "metadata": {
    "ExecuteTime": {
     "end_time": "2019-10-10T00:03:09.788831Z",
     "start_time": "2019-10-10T00:03:09.783909Z"
    }
   },
   "outputs": [
    {
     "name": "stderr",
     "output_type": "stream",
     "text": [
      "/Users/greg/anaconda3/envs/metis/lib/python3.7/site-packages/ipykernel_launcher.py:1: SettingWithCopyWarning: \n",
      "A value is trying to be set on a copy of a slice from a DataFrame.\n",
      "Try using .loc[row_indexer,col_indexer] = value instead\n",
      "\n",
      "See the caveats in the documentation: http://pandas.pydata.org/pandas-docs/stable/user_guide/indexing.html#returning-a-view-versus-a-copy\n",
      "  \"\"\"Entry point for launching an IPython kernel.\n"
     ]
    }
   ],
   "source": [
    "df_na['url'] = df_na['url'].apply(remove_queries)"
   ]
  },
  {
   "cell_type": "code",
   "execution_count": 88,
   "metadata": {
    "ExecuteTime": {
     "end_time": "2019-10-10T00:07:02.897307Z",
     "start_time": "2019-10-10T00:07:02.892327Z"
    }
   },
   "outputs": [],
   "source": [
    "df_sorted = df_na.sort_values(by=['sqft'])"
   ]
  },
  {
   "cell_type": "code",
   "execution_count": 61,
   "metadata": {
    "ExecuteTime": {
     "end_time": "2019-10-10T00:00:19.777566Z",
     "start_time": "2019-10-10T00:00:19.775117Z"
    }
   },
   "outputs": [],
   "source": [
    "def keep_furnished(element):\n",
    "    if element == True:\n",
    "        return True\n",
    "    else:\n",
    "        return False\n",
    "      "
   ]
  },
  {
   "cell_type": "code",
   "execution_count": 85,
   "metadata": {
    "ExecuteTime": {
     "end_time": "2019-10-10T00:06:11.836244Z",
     "start_time": "2019-10-10T00:06:11.826042Z"
    }
   },
   "outputs": [
    {
     "data": {
      "text/plain": [
       "False    8000\n",
       "Name: url, dtype: int64"
      ]
     },
     "execution_count": 85,
     "metadata": {},
     "output_type": "execute_result"
    }
   ],
   "source": []
  },
  {
   "cell_type": "code",
   "execution_count": 86,
   "metadata": {
    "ExecuteTime": {
     "end_time": "2019-10-10T00:06:29.851873Z",
     "start_time": "2019-10-10T00:06:29.847803Z"
    }
   },
   "outputs": [],
   "source": [
    "df_sorted['furnished'] = df_sorted.furnished.apply(keep_furnished)"
   ]
  },
  {
   "cell_type": "code",
   "execution_count": 236,
   "metadata": {
    "ExecuteTime": {
     "end_time": "2019-10-10T14:17:16.329221Z",
     "start_time": "2019-10-10T14:17:16.321863Z"
    }
   },
   "outputs": [
    {
     "data": {
      "text/plain": [
       "249"
      ]
     },
     "execution_count": 236,
     "metadata": {},
     "output_type": "execute_result"
    }
   ],
   "source": [
    "sum(df_sorted.url.value_counts() > 2)"
   ]
  },
  {
   "cell_type": "code",
   "execution_count": 90,
   "metadata": {
    "ExecuteTime": {
     "end_time": "2019-10-10T00:07:27.398488Z",
     "start_time": "2019-10-10T00:07:27.391551Z"
    }
   },
   "outputs": [],
   "source": [
    "df_no_dup = df_sorted.drop_duplicates(['url'], keep=\"first\")"
   ]
  },
  {
   "cell_type": "code",
   "execution_count": 92,
   "metadata": {
    "ExecuteTime": {
     "end_time": "2019-10-10T00:07:41.010287Z",
     "start_time": "2019-10-10T00:07:41.002707Z"
    }
   },
   "outputs": [
    {
     "name": "stdout",
     "output_type": "stream",
     "text": [
      "<class 'pandas.core.frame.DataFrame'>\n",
      "Int64Index: 3751 entries, 1162 to 4061\n",
      "Data columns (total 12 columns):\n",
      "price            3751 non-null int64\n",
      "street           3751 non-null object\n",
      "furnished        154 non-null object\n",
      "url              3751 non-null object\n",
      "beds             3751 non-null float64\n",
      "baths            3751 non-null float64\n",
      "no_broker_fee    3751 non-null float64\n",
      "borough          3751 non-null object\n",
      "city             3751 non-null object\n",
      "sqft             1384 non-null float64\n",
      "neighborhood     3751 non-null object\n",
      "address          3751 non-null object\n",
      "dtypes: float64(4), int64(1), object(7)\n",
      "memory usage: 381.0+ KB\n"
     ]
    }
   ],
   "source": [
    "df_no_dup.info()"
   ]
  },
  {
   "cell_type": "code",
   "execution_count": null,
   "metadata": {},
   "outputs": [],
   "source": []
  },
  {
   "cell_type": "code",
   "execution_count": null,
   "metadata": {},
   "outputs": [],
   "source": []
  },
  {
   "cell_type": "code",
   "execution_count": 100,
   "metadata": {
    "ExecuteTime": {
     "end_time": "2019-10-10T00:10:46.081730Z",
     "start_time": "2019-10-10T00:10:46.079120Z"
    }
   },
   "outputs": [],
   "source": [
    "def clean_baths(val):\n",
    "    if val >= 10:\n",
    "        return val / 10\n",
    "    return val"
   ]
  },
  {
   "cell_type": "code",
   "execution_count": 101,
   "metadata": {
    "ExecuteTime": {
     "end_time": "2019-10-10T00:10:46.474299Z",
     "start_time": "2019-10-10T00:10:46.469774Z"
    }
   },
   "outputs": [
    {
     "name": "stderr",
     "output_type": "stream",
     "text": [
      "/Users/greg/anaconda3/envs/metis/lib/python3.7/site-packages/ipykernel_launcher.py:1: SettingWithCopyWarning: \n",
      "A value is trying to be set on a copy of a slice from a DataFrame.\n",
      "Try using .loc[row_indexer,col_indexer] = value instead\n",
      "\n",
      "See the caveats in the documentation: http://pandas.pydata.org/pandas-docs/stable/user_guide/indexing.html#returning-a-view-versus-a-copy\n",
      "  \"\"\"Entry point for launching an IPython kernel.\n"
     ]
    }
   ],
   "source": [
    "df_no_dup['baths'] = df_no_dup['baths'].apply(clean_baths)"
   ]
  },
  {
   "cell_type": "code",
   "execution_count": 102,
   "metadata": {
    "ExecuteTime": {
     "end_time": "2019-10-10T00:10:54.210028Z",
     "start_time": "2019-10-10T00:10:54.207604Z"
    }
   },
   "outputs": [],
   "source": [
    "df = df_no_dup"
   ]
  },
  {
   "cell_type": "code",
   "execution_count": 110,
   "metadata": {
    "ExecuteTime": {
     "end_time": "2019-10-10T00:14:33.886441Z",
     "start_time": "2019-10-10T00:14:33.862124Z"
    }
   },
   "outputs": [
    {
     "data": {
      "text/html": [
       "<div>\n",
       "<style scoped>\n",
       "    .dataframe tbody tr th:only-of-type {\n",
       "        vertical-align: middle;\n",
       "    }\n",
       "\n",
       "    .dataframe tbody tr th {\n",
       "        vertical-align: top;\n",
       "    }\n",
       "\n",
       "    .dataframe thead th {\n",
       "        text-align: right;\n",
       "    }\n",
       "</style>\n",
       "<table border=\"1\" class=\"dataframe\">\n",
       "  <thead>\n",
       "    <tr style=\"text-align: right;\">\n",
       "      <th></th>\n",
       "      <th>price</th>\n",
       "      <th>beds</th>\n",
       "      <th>baths</th>\n",
       "      <th>no_broker_fee</th>\n",
       "      <th>sqft</th>\n",
       "    </tr>\n",
       "  </thead>\n",
       "  <tbody>\n",
       "    <tr>\n",
       "      <td>count</td>\n",
       "      <td>3751.000000</td>\n",
       "      <td>3751.000000</td>\n",
       "      <td>3751.000000</td>\n",
       "      <td>3751.000000</td>\n",
       "      <td>1384.000000</td>\n",
       "    </tr>\n",
       "    <tr>\n",
       "      <td>mean</td>\n",
       "      <td>4833.480405</td>\n",
       "      <td>1.652626</td>\n",
       "      <td>1.338443</td>\n",
       "      <td>0.569448</td>\n",
       "      <td>1041.004335</td>\n",
       "    </tr>\n",
       "    <tr>\n",
       "      <td>std</td>\n",
       "      <td>3589.752029</td>\n",
       "      <td>0.716356</td>\n",
       "      <td>0.577026</td>\n",
       "      <td>0.495219</td>\n",
       "      <td>519.521456</td>\n",
       "    </tr>\n",
       "    <tr>\n",
       "      <td>min</td>\n",
       "      <td>471.000000</td>\n",
       "      <td>1.000000</td>\n",
       "      <td>1.000000</td>\n",
       "      <td>0.000000</td>\n",
       "      <td>256.000000</td>\n",
       "    </tr>\n",
       "    <tr>\n",
       "      <td>25%</td>\n",
       "      <td>2950.000000</td>\n",
       "      <td>1.000000</td>\n",
       "      <td>1.000000</td>\n",
       "      <td>0.000000</td>\n",
       "      <td>700.000000</td>\n",
       "    </tr>\n",
       "    <tr>\n",
       "      <td>50%</td>\n",
       "      <td>3880.000000</td>\n",
       "      <td>2.000000</td>\n",
       "      <td>1.000000</td>\n",
       "      <td>1.000000</td>\n",
       "      <td>888.500000</td>\n",
       "    </tr>\n",
       "    <tr>\n",
       "      <td>75%</td>\n",
       "      <td>5400.000000</td>\n",
       "      <td>2.000000</td>\n",
       "      <td>2.000000</td>\n",
       "      <td>1.000000</td>\n",
       "      <td>1226.250000</td>\n",
       "    </tr>\n",
       "    <tr>\n",
       "      <td>max</td>\n",
       "      <td>70000.000000</td>\n",
       "      <td>3.000000</td>\n",
       "      <td>4.500000</td>\n",
       "      <td>1.000000</td>\n",
       "      <td>5000.000000</td>\n",
       "    </tr>\n",
       "  </tbody>\n",
       "</table>\n",
       "</div>"
      ],
      "text/plain": [
       "              price         beds        baths  no_broker_fee         sqft\n",
       "count   3751.000000  3751.000000  3751.000000    3751.000000  1384.000000\n",
       "mean    4833.480405     1.652626     1.338443       0.569448  1041.004335\n",
       "std     3589.752029     0.716356     0.577026       0.495219   519.521456\n",
       "min      471.000000     1.000000     1.000000       0.000000   256.000000\n",
       "25%     2950.000000     1.000000     1.000000       0.000000   700.000000\n",
       "50%     3880.000000     2.000000     1.000000       1.000000   888.500000\n",
       "75%     5400.000000     2.000000     2.000000       1.000000  1226.250000\n",
       "max    70000.000000     3.000000     4.500000       1.000000  5000.000000"
      ]
     },
     "execution_count": 110,
     "metadata": {},
     "output_type": "execute_result"
    }
   ],
   "source": []
  },
  {
   "cell_type": "code",
   "execution_count": 127,
   "metadata": {
    "ExecuteTime": {
     "end_time": "2019-10-10T00:19:52.481013Z",
     "start_time": "2019-10-10T00:19:52.470511Z"
    }
   },
   "outputs": [],
   "source": [
    "df_bed3 = df[(df.beds == 3) & (df.sqft > 0)]\n",
    "df_bed2 = df[(df.beds == 2) & (df.sqft > 0)]\n",
    "df_bed1 = df[(df.beds == 1) & (df.sqft > 0)]\n",
    "df_sqft = df[df.sqft > 0]"
   ]
  },
  {
   "cell_type": "code",
   "execution_count": 223,
   "metadata": {
    "ExecuteTime": {
     "end_time": "2019-10-10T01:23:28.513126Z",
     "start_time": "2019-10-10T01:23:28.509131Z"
    }
   },
   "outputs": [],
   "source": [
    "def remove_outlier(df, col='price', threshold=1.5):\n",
    "    q1 = df[col].quantile(0.25)\n",
    "    q3 = df[col].quantile(0.75)\n",
    "    iqr = q3 - q1\n",
    "    lowest_limit = df[col] >= q1 - (threshold * iqr)\n",
    "    highest_limit = df[col] <= q3 + (threshold * iqr)\n",
    "    return df[lowest_limit & highest_limit]    \n",
    "\n",
    "\n"
   ]
  },
  {
   "cell_type": "code",
   "execution_count": 128,
   "metadata": {
    "ExecuteTime": {
     "end_time": "2019-10-10T00:20:41.741801Z",
     "start_time": "2019-10-10T00:20:41.739162Z"
    }
   },
   "outputs": [],
   "source": [
    "pickle_filename = 'data/clean_1-3-bed-manhattan.pkl'\n",
    "pickle_bed1 = 'data/clean_1-bed-manhattan.pkl'\n",
    "pickle_bed2 = 'data/clean_2-bed-manhattan.pkl'\n",
    "pickle_bed3 = 'data/clean_3-bed-manhattan.pkl'\n",
    "pickle_sqft = 'data/clean-sqft-manhattan.pkl'\n",
    "\n"
   ]
  },
  {
   "cell_type": "code",
   "execution_count": 166,
   "metadata": {
    "ExecuteTime": {
     "end_time": "2019-10-10T01:02:57.188478Z",
     "start_time": "2019-10-10T01:02:57.174249Z"
    }
   },
   "outputs": [],
   "source": [
    "df.to_pickle(pickle_filename)\n",
    "df_bed1.to_pickle(pickle_bed1)\n",
    "df_bed2.to_pickle(pickle_bed2)\n",
    "df_bed3.to_pickle(pickle_bed3)\n",
    "df_sqft.to_pickle(pickle_sqft)"
   ]
  },
  {
   "cell_type": "code",
   "execution_count": 167,
   "metadata": {
    "ExecuteTime": {
     "end_time": "2019-10-10T01:02:57.636018Z",
     "start_time": "2019-10-10T01:02:57.621536Z"
    }
   },
   "outputs": [],
   "source": [
    "df = pd.read_pickle(pickle_filename)\n",
    "dfb1 = pd.read_pickle(pickle_bed1)\n",
    "dfb2 = pd.read_pickle(pickle_bed2)\n",
    "dfb3 = pd.read_pickle(pickle_bed3)\n",
    "dfs = pd.read_pickle(pickle_sqft)"
   ]
  },
  {
   "cell_type": "code",
   "execution_count": 218,
   "metadata": {
    "ExecuteTime": {
     "end_time": "2019-10-10T01:23:15.942042Z",
     "start_time": "2019-10-10T01:23:15.937475Z"
    }
   },
   "outputs": [],
   "source": [
    "def split_columns_val(df, y_col, x_cols, dummy_cols, remove_all_outliers = True):\n",
    "    \n",
    "    df = remove_outlier(df, y_col) if remove_all_outliers else df \n",
    "    \n",
    "    dummy_df = pd.get_dummies(df, columns=dummy_cols)\n",
    "    \n",
    "    for col_name in dummy_cols:\n",
    "        dummy_col_names = [col for col in dummy_df.columns if col_name + '_' in col]\n",
    "        agg_dummy_col_names = x_cols + dummy_col_names\n",
    "    \n",
    "    cols = x_cols + agg_dummy_col_names\n",
    "    \n",
    "    return split_and_validate(dummy_df[cols], df[y_col])"
   ]
  },
  {
   "cell_type": "code",
   "execution_count": 219,
   "metadata": {
    "ExecuteTime": {
     "end_time": "2019-10-10T01:23:16.484791Z",
     "start_time": "2019-10-10T01:23:16.480829Z"
    }
   },
   "outputs": [],
   "source": [
    "def split_and_validate(X, y):\n",
    "\n",
    "    # perform train/val split\n",
    "    X_train, X_val, y_train, y_val = \\\n",
    "        train_test_split(X, y, test_size=0.2, random_state=42)\n",
    "\n",
    "    # fit linear regression to training data\n",
    "    lr_model = LinearRegression()\n",
    "    lr_model.fit(X_train, y_train)\n",
    "\n",
    "    # score fit model on validation data\n",
    "    val_score = lr_model.score(X_val, y_val)\n",
    "\n",
    "    # report results\n",
    "    print('\\nValidation R^2 score was:', val_score)\n",
    "    print('Feature coefficient results: \\n')\n",
    "    for feature, coef in zip(X.columns, lr_model.coef_):\n",
    "        print(feature, ':', f'{coef:.2f}')\n",
    "    \n",
    "    return (X_train, X_val, y_train, y_val, lr_model)\n",
    "        "
   ]
  },
  {
   "cell_type": "code",
   "execution_count": 220,
   "metadata": {
    "ExecuteTime": {
     "end_time": "2019-10-10T01:23:16.979286Z",
     "start_time": "2019-10-10T01:23:16.970263Z"
    }
   },
   "outputs": [
    {
     "data": {
      "text/html": [
       "<div>\n",
       "<style scoped>\n",
       "    .dataframe tbody tr th:only-of-type {\n",
       "        vertical-align: middle;\n",
       "    }\n",
       "\n",
       "    .dataframe tbody tr th {\n",
       "        vertical-align: top;\n",
       "    }\n",
       "\n",
       "    .dataframe thead th {\n",
       "        text-align: right;\n",
       "    }\n",
       "</style>\n",
       "<table border=\"1\" class=\"dataframe\">\n",
       "  <thead>\n",
       "    <tr style=\"text-align: right;\">\n",
       "      <th></th>\n",
       "      <th>price</th>\n",
       "      <th>street</th>\n",
       "      <th>furnished</th>\n",
       "      <th>url</th>\n",
       "      <th>beds</th>\n",
       "      <th>baths</th>\n",
       "      <th>no_broker_fee</th>\n",
       "      <th>borough</th>\n",
       "      <th>city</th>\n",
       "      <th>sqft</th>\n",
       "      <th>neighborhood</th>\n",
       "      <th>address</th>\n",
       "    </tr>\n",
       "  </thead>\n",
       "  <tbody>\n",
       "    <tr>\n",
       "      <td>1162</td>\n",
       "      <td>3000</td>\n",
       "      <td>24 Jane Street #1B</td>\n",
       "      <td>None</td>\n",
       "      <td>https://streeteasy.com/building/24-jane-street...</td>\n",
       "      <td>1.0</td>\n",
       "      <td>1.0</td>\n",
       "      <td>1.0</td>\n",
       "      <td>manhattan</td>\n",
       "      <td>ny</td>\n",
       "      <td>256.0</td>\n",
       "      <td>West Village</td>\n",
       "      <td>24 Jane Street #1B, West Village, ny</td>\n",
       "    </tr>\n",
       "  </tbody>\n",
       "</table>\n",
       "</div>"
      ],
      "text/plain": [
       "      price              street furnished  \\\n",
       "1162   3000  24 Jane Street #1B      None   \n",
       "\n",
       "                                                    url  beds  baths  \\\n",
       "1162  https://streeteasy.com/building/24-jane-street...   1.0    1.0   \n",
       "\n",
       "      no_broker_fee    borough city   sqft  neighborhood  \\\n",
       "1162            1.0  manhattan   ny  256.0  West Village   \n",
       "\n",
       "                                   address  \n",
       "1162  24 Jane Street #1B, West Village, ny  "
      ]
     },
     "execution_count": 220,
     "metadata": {},
     "output_type": "execute_result"
    }
   ],
   "source": [
    "df.head(1)"
   ]
  },
  {
   "cell_type": "code",
   "execution_count": 227,
   "metadata": {
    "ExecuteTime": {
     "end_time": "2019-10-10T01:25:27.485335Z",
     "start_time": "2019-10-10T01:25:27.482626Z"
    }
   },
   "outputs": [],
   "source": [
    "X_cols = ['beds', 'baths', 'sqft'] # furnished has None values\n",
    "dummies = ['neighborhood']"
   ]
  },
  {
   "cell_type": "code",
   "execution_count": 229,
   "metadata": {
    "ExecuteTime": {
     "end_time": "2019-10-10T01:25:38.497877Z",
     "start_time": "2019-10-10T01:25:38.447722Z"
    }
   },
   "outputs": [
    {
     "name": "stdout",
     "output_type": "stream",
     "text": [
      "\n",
      "Validation R^2 score was: 0.8012300207780864\n",
      "Feature coefficient results: \n",
      "\n",
      "beds : -6.29\n",
      "baths : 665.06\n",
      "sqft : 1.35\n",
      "beds : -6.29\n",
      "baths : 665.06\n",
      "sqft : 1.35\n",
      "neighborhood_Battery Park City : 625.42\n",
      "neighborhood_Beekman : -307.95\n",
      "neighborhood_Carnegie Hill : -281.40\n",
      "neighborhood_Central Harlem : -2227.25\n",
      "neighborhood_Central Park South : 1741.46\n",
      "neighborhood_Chelsea : 922.02\n",
      "neighborhood_Chinatown : -722.94\n",
      "neighborhood_East Harlem : -1284.37\n",
      "neighborhood_East Village : 412.45\n",
      "neighborhood_Financial District : 191.56\n",
      "neighborhood_Flatiron : 1630.70\n",
      "neighborhood_Fort George : -2025.58\n",
      "neighborhood_Fulton/Seaport : 24.55\n",
      "neighborhood_Gramercy Park : 515.28\n",
      "neighborhood_Greenwich Village : 687.72\n",
      "neighborhood_Hamilton Heights : -2051.35\n",
      "neighborhood_Hell's Kitchen : 174.27\n",
      "neighborhood_Hudson Heights : -1685.83\n",
      "neighborhood_Hudson Square : 4.07\n",
      "neighborhood_Hudson Yards : 582.10\n",
      "neighborhood_Inwood : -1910.84\n",
      "neighborhood_Kips Bay : 58.56\n",
      "neighborhood_Lenox Hill : 192.09\n",
      "neighborhood_Lincoln Square : 550.70\n",
      "neighborhood_Little Italy : -938.05\n",
      "neighborhood_Lower East Side : 116.17\n",
      "neighborhood_Manhattan Valley : 114.84\n",
      "neighborhood_Marble Hill : -2140.18\n",
      "neighborhood_Midtown : 632.65\n",
      "neighborhood_Midtown South : 556.34\n",
      "neighborhood_Morningside Heights : -476.04\n",
      "neighborhood_Murray Hill : -115.66\n",
      "neighborhood_NoMad : 1208.79\n",
      "neighborhood_Noho : 344.42\n",
      "neighborhood_Nolita : 777.98\n",
      "neighborhood_Roosevelt Island : -287.19\n",
      "neighborhood_Soho : 1868.55\n",
      "neighborhood_South Harlem : -1249.03\n",
      "neighborhood_Stuyvesant Town/PCV : 217.09\n",
      "neighborhood_Sutton Place : 521.09\n",
      "neighborhood_Tribeca : 1176.30\n",
      "neighborhood_Turtle Bay : -111.83\n",
      "neighborhood_Two Bridges : 261.59\n",
      "neighborhood_Upper Carnegie Hill : 925.96\n",
      "neighborhood_Upper East Side : 99.27\n",
      "neighborhood_Upper West Side : 71.09\n",
      "neighborhood_Washington Heights : -1793.25\n",
      "neighborhood_West Chelsea : 916.39\n",
      "neighborhood_West Village : 1775.59\n",
      "neighborhood_Yorkville : -288.33\n"
     ]
    }
   ],
   "source": [
    "X_train, X_val, y_train, y_val, lr_model = split_columns_val(dfs, 'price', X_cols, dummies)"
   ]
  },
  {
   "cell_type": "code",
   "execution_count": null,
   "metadata": {
    "ExecuteTime": {
     "end_time": "2019-10-10T01:22:15.367068Z",
     "start_time": "2019-10-10T01:22:14.234Z"
    }
   },
   "outputs": [],
   "source": [
    "y_hat = lr_model.predict(X_val)"
   ]
  },
  {
   "cell_type": "code",
   "execution_count": null,
   "metadata": {
    "ExecuteTime": {
     "end_time": "2019-10-10T01:22:15.370979Z",
     "start_time": "2019-10-10T01:22:14.403Z"
    }
   },
   "outputs": [],
   "source": [
    "plt.scatter(y_val, y_hat)\n",
    "plt.xlabel('Actual rental unit prices')\n",
    "plt.ylabel('Predicted rental unit prices')\n",
    "plt.title('Manhattan, NY rental prices for 1-3 bd units in Oct 2019')\n",
    "    "
   ]
  },
  {
   "cell_type": "code",
   "execution_count": 204,
   "metadata": {
    "ExecuteTime": {
     "end_time": "2019-10-10T01:15:11.577689Z",
     "start_time": "2019-10-10T01:15:11.570665Z"
    },
    "hide_input": true
   },
   "outputs": [
    {
     "name": "stdout",
     "output_type": "stream",
     "text": [
      "training score:  0.7350549070811963\n",
      "testing score:  0.732815175323842\n"
     ]
    }
   ],
   "source": [
    "print('training score: ', lr_model.score(X_train, y_train))\n",
    "print('testing score: ', lr_model.score(X_val, y_val))"
   ]
  },
  {
   "cell_type": "code",
   "execution_count": null,
   "metadata": {
    "hide_input": false
   },
   "outputs": [],
   "source": []
  },
  {
   "cell_type": "code",
   "execution_count": null,
   "metadata": {},
   "outputs": [],
   "source": []
  },
  {
   "cell_type": "code",
   "execution_count": null,
   "metadata": {},
   "outputs": [],
   "source": []
  }
 ],
 "metadata": {
  "hide_input": false,
  "kernelspec": {
   "display_name": "Python [conda env:metis] *",
   "language": "python",
   "name": "conda-env-metis-py"
  },
  "language_info": {
   "codemirror_mode": {
    "name": "ipython",
    "version": 3
   },
   "file_extension": ".py",
   "mimetype": "text/x-python",
   "name": "python",
   "nbconvert_exporter": "python",
   "pygments_lexer": "ipython3",
   "version": "3.7.3"
  },
  "toc": {
   "base_numbering": 1,
   "nav_menu": {},
   "number_sections": true,
   "sideBar": true,
   "skip_h1_title": false,
   "title_cell": "Table of Contents",
   "title_sidebar": "Contents",
   "toc_cell": false,
   "toc_position": {},
   "toc_section_display": true,
   "toc_window_display": false
  },
  "varInspector": {
   "cols": {
    "lenName": 16,
    "lenType": 16,
    "lenVar": 40
   },
   "kernels_config": {
    "python": {
     "delete_cmd_postfix": "",
     "delete_cmd_prefix": "del ",
     "library": "var_list.py",
     "varRefreshCmd": "print(var_dic_list())"
    },
    "r": {
     "delete_cmd_postfix": ") ",
     "delete_cmd_prefix": "rm(",
     "library": "var_list.r",
     "varRefreshCmd": "cat(var_dic_list()) "
    }
   },
   "types_to_exclude": [
    "module",
    "function",
    "builtin_function_or_method",
    "instance",
    "_Feature"
   ],
   "window_display": false
  }
 },
 "nbformat": 4,
 "nbformat_minor": 2
}
