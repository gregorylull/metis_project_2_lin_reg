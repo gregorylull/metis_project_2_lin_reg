{
 "cells": [
  {
   "cell_type": "code",
   "execution_count": 3,
   "metadata": {
    "ExecuteTime": {
     "end_time": "2019-10-09T18:33:08.414439Z",
     "start_time": "2019-10-09T18:33:08.396125Z"
    }
   },
   "outputs": [
    {
     "name": "stdout",
     "output_type": "stream",
     "text": [
      "Populating the interactive namespace from numpy and matplotlib\n"
     ]
    }
   ],
   "source": [
    "%pylab inline\n",
    "%config InlineBackend.figure_format = 'svg'\n",
    "\n",
    "import pandas as pd\n",
    "import seaborn as sns\n",
    "sns.set()\n",
    "\n",
    "from sklearn.model_selection import train_test_split\n",
    "from sklearn.linear_model import LinearRegression, Lasso, LassoCV, Ridge, RidgeCV\n",
    "from sklearn.metrics import r2_score"
   ]
  },
  {
   "cell_type": "code",
   "execution_count": 2,
   "metadata": {
    "ExecuteTime": {
     "end_time": "2019-10-09T18:32:35.835202Z",
     "start_time": "2019-10-09T18:32:35.830127Z"
    }
   },
   "outputs": [
    {
     "data": {
      "text/plain": [
       "'\\n1. get X and Y\\n2. Train and test\\n3. put data through linear regression\\n - X fit\\n4. predict with test\\n5. get score R2 or MSE\\n6. Plot\\n   - scatter plot prediction vs actual\\n\\n'"
      ]
     },
     "execution_count": 2,
     "metadata": {},
     "output_type": "execute_result"
    }
   ],
   "source": [
    "\"\"\"\n",
    "1. get X and Y\n",
    "2. Train and test\n",
    "3. put data through linear regression\n",
    " - X fit\n",
    "4. predict with test\n",
    "5. get score R2 or MSE\n",
    "6. Plot\n",
    "   - scatter plot prediction vs actual\n",
    "\n",
    "\"\"\""
   ]
  },
  {
   "cell_type": "code",
   "execution_count": 4,
   "metadata": {
    "ExecuteTime": {
     "end_time": "2019-10-09T18:36:26.683537Z",
     "start_time": "2019-10-09T18:36:26.556068Z"
    }
   },
   "outputs": [
    {
     "name": "stdout",
     "output_type": "stream",
     "text": [
      "1-3-bed-manhattan-pg332-601.json mini-2-bed-manhattan.json\r\n",
      "1-3-bed-manhattan-pg332.json\r\n"
     ]
    }
   ],
   "source": [
    "!ls data/"
   ]
  },
  {
   "cell_type": "code",
   "execution_count": 5,
   "metadata": {
    "ExecuteTime": {
     "end_time": "2019-10-09T18:41:37.804955Z",
     "start_time": "2019-10-09T18:41:37.419162Z"
    }
   },
   "outputs": [],
   "source": [
    "dfp1 = pd.read_json('data/1-3-bed-manhattan-pg332.json')\n"
   ]
  },
  {
   "cell_type": "code",
   "execution_count": 6,
   "metadata": {
    "ExecuteTime": {
     "end_time": "2019-10-09T18:41:37.851405Z",
     "start_time": "2019-10-09T18:41:37.834537Z"
    }
   },
   "outputs": [],
   "source": [
    "dfp2 = pd.read_json('data/1-3-bed-manhattan-pg332-601.json')\n"
   ]
  },
  {
   "cell_type": "code",
   "execution_count": 9,
   "metadata": {
    "ExecuteTime": {
     "end_time": "2019-10-09T18:45:51.592457Z",
     "start_time": "2019-10-09T18:45:51.587115Z"
    }
   },
   "outputs": [],
   "source": [
    "df = pd.concat([dfp1, dfp1])"
   ]
  },
  {
   "cell_type": "code",
   "execution_count": 12,
   "metadata": {
    "ExecuteTime": {
     "end_time": "2019-10-09T18:46:10.466230Z",
     "start_time": "2019-10-09T18:46:10.458366Z"
    }
   },
   "outputs": [
    {
     "name": "stdout",
     "output_type": "stream",
     "text": [
      "<class 'pandas.core.frame.DataFrame'>\n",
      "Int64Index: 8124 entries, 0 to 4061\n",
      "Data columns (total 12 columns):\n",
      "price            8124 non-null int64\n",
      "street           8000 non-null object\n",
      "furnished        326 non-null object\n",
      "url              8124 non-null object\n",
      "beds             8122 non-null float64\n",
      "baths            8122 non-null float64\n",
      "no_broker_fee    8116 non-null float64\n",
      "borough          8006 non-null object\n",
      "city             8006 non-null object\n",
      "sqft             2986 non-null object\n",
      "neighborhood     8000 non-null object\n",
      "address          8124 non-null object\n",
      "dtypes: float64(3), int64(1), object(8)\n",
      "memory usage: 825.1+ KB\n"
     ]
    }
   ],
   "source": [
    "df.info()"
   ]
  },
  {
   "cell_type": "code",
   "execution_count": null,
   "metadata": {},
   "outputs": [],
   "source": []
  }
 ],
 "metadata": {
  "hide_input": false,
  "kernelspec": {
   "display_name": "Python [conda env:metis] *",
   "language": "python",
   "name": "conda-env-metis-py"
  },
  "language_info": {
   "codemirror_mode": {
    "name": "ipython",
    "version": 3
   },
   "file_extension": ".py",
   "mimetype": "text/x-python",
   "name": "python",
   "nbconvert_exporter": "python",
   "pygments_lexer": "ipython3",
   "version": "3.7.3"
  },
  "toc": {
   "base_numbering": 1,
   "nav_menu": {},
   "number_sections": true,
   "sideBar": true,
   "skip_h1_title": false,
   "title_cell": "Table of Contents",
   "title_sidebar": "Contents",
   "toc_cell": false,
   "toc_position": {},
   "toc_section_display": true,
   "toc_window_display": false
  },
  "varInspector": {
   "cols": {
    "lenName": 16,
    "lenType": 16,
    "lenVar": 40
   },
   "kernels_config": {
    "python": {
     "delete_cmd_postfix": "",
     "delete_cmd_prefix": "del ",
     "library": "var_list.py",
     "varRefreshCmd": "print(var_dic_list())"
    },
    "r": {
     "delete_cmd_postfix": ") ",
     "delete_cmd_prefix": "rm(",
     "library": "var_list.r",
     "varRefreshCmd": "cat(var_dic_list()) "
    }
   },
   "types_to_exclude": [
    "module",
    "function",
    "builtin_function_or_method",
    "instance",
    "_Feature"
   ],
   "window_display": false
  }
 },
 "nbformat": 4,
 "nbformat_minor": 2
}
